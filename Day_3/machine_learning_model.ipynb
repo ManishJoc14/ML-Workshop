{
 "cells": [
  {
   "cell_type": "markdown",
   "metadata": {},
   "source": [
    "# Study Lab : Mechine Learning Model Representation"
   ]
  },
  {
   "cell_type": "markdown",
   "metadata": {},
   "source": [
    "#### Goals :  \n",
    "In this lab you will learn :  \n",
    "&nbsp; - To implement the model $f_{w, b}$\n"
   ]
  },
  {
   "cell_type": "markdown",
   "metadata": {},
   "source": [
    "#### Notations :  \n",
    "\n",
    "| Notation | Description                       | Example Value |\n",
    "|----------|-----------------------------------|---------------|\n",
    "| $f_{w, b}$ | Function with weights and bias   | $f_{1.2, 0.5}$ |\n",
    "| $w$      | Weight of the model               | $1.2$         |\n",
    "| $b$      | Bias of the model                 | $0.5$         |\n",
    "| $x$      | Input feature                     | $10$          |\n",
    "| $y$      | Output label                      | $20$          |\n",
    "| $m$      | Number of training examples       | $100$         |\n",
    "| $n$      | Number of features                | $10$          |\n"
   ]
  },
  {
   "cell_type": "markdown",
   "metadata": {},
   "source": [
    "#### Tools :  \n",
    "&nbsp; - **numpy** : for mathemetical computation  \n",
    "&nbsp; - **matplotlib** : for visualization"
   ]
  },
  {
   "cell_type": "code",
   "execution_count": 1,
   "metadata": {},
   "outputs": [],
   "source": [
    "import numpy as np\n",
    "import matplotlib.pyplot as plt"
   ]
  },
  {
   "cell_type": "markdown",
   "metadata": {},
   "source": [
    "#### Problem Defination :  \n",
    "In this lab we will use dataset with only two data points as follow and try to build model based on that  \n",
    "\n",
    "| Area (1000 sq feet) | Price (Rs. 100000) |\n",
    "|---------------------|--------------------|\n",
    "| 40                  | 100                 | \n",
    "| 100                 | 150                |\n",
    "\n",
    "This dataset shows price of a house based on it's area. \n",
    "\n",
    "You would like to fit a linear regression model through these two points, so you can then predict price for other houses - say, a house with 1200 sqft.\n",
    "\n",
    "Please run the following code cell to create your x_train and y_train variables. The data is stored in one-dimensional NumPy arrays.\n"
   ]
  },
  {
   "cell_type": "code",
   "execution_count": 2,
   "metadata": {},
   "outputs": [
    {
     "name": "stdout",
     "output_type": "stream",
     "text": [
      "x_train = [ 40. 100.]\n",
      "y_train = [100. 150.]\n"
     ]
    }
   ],
   "source": [
    "# x_train is the input variable (size in 1000 square feet)\n",
    "# y_train is the target (price in 1000s of dollars)\n",
    "x_train = np.array([40.0, 100.0])\n",
    "y_train = np.array([100.0, 150.0])\n",
    "print(f\"x_train = {x_train}\")\n",
    "print(f\"y_train = {y_train}\")"
   ]
  },
  {
   "cell_type": "code",
   "execution_count": 3,
   "metadata": {},
   "outputs": [
    {
     "name": "stdout",
     "output_type": "stream",
     "text": [
      "x_train.shape: (2,)\n",
      "Number of training examples is: 2\n"
     ]
    }
   ],
   "source": [
    "# m is the number of training examples\n",
    "print(f\"x_train.shape: {x_train.shape}\")\n",
    "m = x_train.shape[0]\n",
    "print(f\"Number of training examples is: {m}\")"
   ]
  },
  {
   "cell_type": "markdown",
   "metadata": {},
   "source": [
    "#### Plotting the data"
   ]
  },
  {
   "cell_type": "markdown",
   "metadata": {},
   "source": [
    "You can plot these two points using the `scatter()` function in the `matplotlib` library, as shown in the cell below"
   ]
  },
  {
   "cell_type": "code",
   "execution_count": 4,
   "metadata": {},
   "outputs": [
    {
     "data": {
      "image/png": "[encoded data removed]",
      "text/plain": [
       "<Figure size 640x480 with 1 Axes>"
      ]
     },
     "metadata": {},
     "output_type": "display_data"
    }
   ],
   "source": [
    "\n",
    "\n",
    "# Plot the data points\n",
    "plt.scatter(x_train, y_train, marker='x', c='red')\n",
    "# Set the title\n",
    "plt.title(\"Housing Prices\")\n",
    "# Set the y-axis label\n",
    "plt.ylabel('Price (in 1000s of dollars)')\n",
    "# Set the x-axis label\n",
    "plt.xlabel('Size (1000 sqft)')\n",
    "plt.show()"
   ]
  },
  {
   "cell_type": "markdown",
   "metadata": {},
   "source": [
    "#### Model function :  \n",
    "The model of linear regression is a function that maps `x` to `y`.  \n",
    "which can be written as :&nbsp;&nbsp;$f_{w,b}(x^{(i)}) = wx^{(i)} + b$ &nbsp;  \n",
    "here,  \n",
    "$w$ , $b$ are weight and bias and $x^{(i)}$ is the i-th datapoint.  \n",
    "lets start with $w = 100$ and $ b = 100$\n"
   ]
  },
  {
   "cell_type": "code",
   "execution_count": 5,
   "metadata": {},
   "outputs": [
    {
     "name": "stdout",
     "output_type": "stream",
     "text": [
      "w: 100\n",
      "b: 100\n"
     ]
    }
   ],
   "source": [
    "# these are parameters(input) for model\n",
    "# for 2d coordinate systemt =>  w(weight) = slope and b(bias)= intercept\n",
    "w = 100\n",
    "b = 100\n",
    "\n",
    "print(f\"w: {w}\")\n",
    "print(f\"b: {b}\")"
   ]
  },
  {
   "cell_type": "markdown",
   "metadata": {},
   "source": [
    "Now, let's compute the value of $f_{w,b}(x^{(i)})$ for your two data points. You can explicitly write this out for each data point as  - <br>\n",
    "    for $x^{(0)}$, `f_wb = w * x[0] + b`,\n",
    "    <br>\n",
    "    for $x^{(1)}$, `f_wb = w * x[1] + b`,\n",
    "   <br>\n",
    "    For a large number of data points, this can get unwieldy and repetitive. So instead, you can calculate the function output in a `for` loop as shown in the `compute_model_output` function below. <br><br>\n",
    "    **Note**: The argument description `(ndarray (m,))` describes a Numpy n-dimensional array of shape (m,). `(scalar)` describes an argument without dimensions, just a magnitude.  <br>\n",
    "    **Note**: `np.zero(n)` will return a one-dimensional numpy array with $n$ entries\n",
    "   "
   ]
  },
  {
   "cell_type": "code",
   "execution_count": 6,
   "metadata": {},
   "outputs": [],
   "source": [
    "def compute_model_output(x, w, b):\n",
    "    \"\"\"\n",
    "    Computes the prediction of a linear model\n",
    "    Args:\n",
    "      x (ndarray (m,)): Data, m examples \n",
    "      w,b (scalar)    : model parameters  \n",
    "    Returns\n",
    "      y (ndarray (m,)): target values\n",
    "    \"\"\"\n",
    "    \n",
    "    # m is no of data points\n",
    "    m = x.shape[0]\n",
    "    \n",
    "    # fill array by 0 initially of lenght m\n",
    "    f_wb = np.zeros(m)\n",
    "    \n",
    "    for i in range(m):\n",
    "        f_wb[i] = w * x[i] + b\n",
    "    return f_wb\n",
    "        "
   ]
  },
  {
   "cell_type": "markdown",
   "metadata": {},
   "source": [
    "Now let's call the `compute_model_output` function and plot the output.. "
   ]
  },
  {
   "cell_type": "code",
   "execution_count": null,
   "metadata": {},
   "outputs": [
    {
     "data": {
      "image/png": "[encoded data removed]",
      "text/plain": [
       "<Figure size 640x480 with 1 Axes>"
      ]
     },
     "metadata": {},
     "output_type": "display_data"
    }
   ],
   "source": [
    "w_guess = 0.833\n",
    "b_guess = 66.68\n",
    "tmp_f_wb = compute_model_output(x_train, w_guess, b_guess)\n",
    "\n",
    "# Plot our model prediction\n",
    "plt.plot(x_train, tmp_f_wb, c='b',label='Our Prediction')\n",
    "\n",
    "# Plot the data points\n",
    "plt.scatter(x_train, y_train, marker='x', c='r',label='Actual Values')\n",
    "\n",
    "# Set the title\n",
    "plt.title(\"Housing Prices\")\n",
    "# Set the y-axis label\n",
    "plt.ylabel('Price (in Rs 100000s)')\n",
    "# Set the x-axis label\n",
    "plt.xlabel('Size (1000 sqft)')\n",
    "plt.legend()\n",
    "plt.show()"
   ]
  },
  {
   "cell_type": "markdown",
   "metadata": {},
   "source": [
    "As you can see, setting $w = 100$ and $b = 100$ does not result in a line that fits our data. <br>\n",
    "\n",
    "***fun challenge :*** Try adjusting value of `w_guess` and `b_guess` in above cell to get a proper line."
   ]
  },
  {
   "cell_type": "markdown",
   "metadata": {},
   "source": [
    "#### Prediction : \n",
    "\n",
    "Now that we have a model, we can use it to make our original prediction. <br> Let's predict the price of a house with 1200 sqft. Since the units of $x$ are in 1000's of sqft,$x$ is 1.2."
   ]
  },
  {
   "cell_type": "code",
   "execution_count": 13,
   "metadata": {},
   "outputs": [
    {
     "name": "stdout",
     "output_type": "stream",
     "text": [
      "Rs.68 lakh rupees\n"
     ]
    }
   ],
   "source": [
    "\n",
    "x_i = 1.2\n",
    "cost_1200sqft = w_guess * x_i + b_guess    \n",
    "\n",
    "print(f\"Rs.{cost_1200sqft:.0f} lakh rupees\")"
   ]
  },
  {
   "cell_type": "markdown",
   "metadata": {},
   "source": [
    "#### Congrtulations \n",
    "In this lab you have learned: <br>\n",
    "- Linear regression builds a model which establishes a relationship between features and targets <br>\n",
    "- In the example above, the feature was *house size* and the target was *house price* <br>\n",
    "- for simple linear regression, the model has two parameters $w$ and $b$ whose values are 'fit' using training data <br>\n",
    "- once a model's parameters have been determined, the model can be used to make predictions on novel data."
   ]
  }
 ],
 "metadata": {
  "kernelspec": {
   "display_name": "venv",
   "language": "python",
   "name": "python3"
  },
  "language_info": {
   "codemirror_mode": {
    "name": "ipython",
    "version": 3
   },
   "file_extension": ".py",
   "mimetype": "text/x-python",
   "name": "python",
   "nbconvert_exporter": "python",
   "pygments_lexer": "ipython3",
   "version": "3.12.6"
  }
 },
 "nbformat": 4,
 "nbformat_minor": 2
}
