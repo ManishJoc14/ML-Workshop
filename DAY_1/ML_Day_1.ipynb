{
  "cells": [
    {
      "cell_type": "markdown",
      "metadata": {
        "id": "1_9xTq84TIMG"
      },
      "source": [
        "# **Let's scrap data from wikipedia**"
      ]
    },
    {
      "cell_type": "code",
      "execution_count": 5,
      "metadata": {
        "id": "e0gCkcQLTJEp"
      },
      "outputs": [],
      "source": [
        "from bs4 import BeautifulSoup # for parsing HTML data\n",
        "import requests # send HTTP requests"
      ]
    },
    {
      "cell_type": "code",
      "execution_count": null,
      "metadata": {
        "id": "jqg7pKgPTLL9"
      },
      "outputs": [],
      "source": [
        "url = 'https://en.wikipedia.org/wiki/Nepal'"
      ]
    },
    {
      "cell_type": "code",
      "execution_count": null,
      "metadata": {
        "id": "AAvy2F8STMaF"
      },
      "outputs": [],
      "source": [
        "page = requests.get(url)\n",
        "\n",
        "soup = BeautifulSoup(page.text, 'html')"
      ]
    },
    {
      "cell_type": "code",
      "execution_count": null,
      "metadata": {
        "id": "C9KXVsiqTNkM"
      },
      "outputs": [],
      "source": [
        "if page.status_code == 200:\n",
        "    print(\"Page fetched successfully!\")\n",
        "else:\n",
        "    print(f\"Failed to fetch page: {page.status_code}\")"
      ]
    },
    {
      "cell_type": "code",
      "execution_count": null,
      "metadata": {
        "id": "cNjKs9PbTPAl"
      },
      "outputs": [],
      "source": [
        "# print 'soup' to see all the html content of that url\n",
        "print(soup)"
      ]
    },
    {
      "cell_type": "code",
      "execution_count": null,
      "metadata": {
        "id": "_xjZjzFMTUwM"
      },
      "outputs": [],
      "source": [
        "# Display any text of HTML\n",
        "# use find and findall\n",
        "header = soup.find('h1')"
      ]
    },
    {
      "cell_type": "code",
      "execution_count": null,
      "metadata": {
        "id": "QDXTdAWnTRdk"
      },
      "outputs": [],
      "source": [
        "# display 'p' tag using find_all and use strip() to remove unwanted space\n",
        "title = soup.find_all('p')\n",
        "for text in title:\n",
        "  print(text.text.strip())"
      ]
    },
    {
      "cell_type": "code",
      "execution_count": null,
      "metadata": {
        "id": "vjYiTe3iTZJt"
      },
      "outputs": [],
      "source": [
        "# target all table tag\n",
        "soup.find('table')"
      ]
    },
    {
      "cell_type": "code",
      "execution_count": null,
      "metadata": {
        "id": "KbC5JTswTdy9"
      },
      "outputs": [],
      "source": [
        "# target our desired table (using class attribute)\n",
        "scrap_table =soup.find('table', class_='wikitable sortable')"
      ]
    },
    {
      "cell_type": "code",
      "execution_count": null,
      "metadata": {
        "id": "iDRI7fnkTg7U"
      },
      "outputs": [],
      "source": [
        "scrap_table"
      ]
    },
    {
      "cell_type": "code",
      "execution_count": null,
      "metadata": {
        "id": "jTNW4bQdTi7E"
      },
      "outputs": [],
      "source": [
        "# fetch all the header of that tabel\n",
        "header = scrap_table.find_all('th')\n",
        "header"
      ]
    },
    {
      "cell_type": "code",
      "execution_count": null,
      "metadata": {
        "id": "m7hd6AyCTk8c"
      },
      "outputs": [],
      "source": [
        "# convert that header into list\n",
        "header_list = []\n",
        "for header_data in header:\n",
        "  header_list.append(header_data.text.strip())\n",
        "print(header_list)"
      ]
    },
    {
      "cell_type": "code",
      "execution_count": null,
      "metadata": {
        "id": "RdCNx84KUqqS"
      },
      "outputs": [],
      "source": [
        "header_list"
      ]
    },
    {
      "cell_type": "code",
      "execution_count": null,
      "metadata": {
        "id": "-H7wm11KTs_r"
      },
      "outputs": [],
      "source": [
        "# Remove unwanted header from that list\n",
        "header_list_data = []\n",
        "upto = 9\n",
        "i = 0\n",
        "for header_item in header_list:\n",
        "    header_list_data.append(header_item)\n",
        "    i += 1\n",
        "    if i == upto:\n",
        "        break"
      ]
    },
    {
      "cell_type": "code",
      "execution_count": null,
      "metadata": {
        "id": "fzk4XZHUTutb"
      },
      "outputs": [],
      "source": [
        "header_list_data"
      ]
    },
    {
      "cell_type": "markdown",
      "metadata": {
        "id": "9soxZ2EvTxtE"
      },
      "source": [
        "# **Converting List into Dataframes**"
      ]
    },
    {
      "cell_type": "code",
      "execution_count": null,
      "metadata": {
        "id": "4jeOXpq0Tygd"
      },
      "outputs": [],
      "source": [
        "import pandas as pd # used for data manipulation (like for csv file)\n",
        "# will explore more about pandas in next class"
      ]
    },
    {
      "cell_type": "code",
      "execution_count": null,
      "metadata": {
        "id": "ANWVIWjWT5e8"
      },
      "outputs": [],
      "source": [
        "# How data is append in the dataframe\n",
        "header_test = [[\"header1\", \"header2\", \"header3\"]]\n",
        "content_test = [[\"content1\", \"content2\", \"content3\"], [\"content4\", \"content5\", \"content6\"]]\n",
        "df_test = pd.DataFrame(content_test, columns=header_test)\n",
        "df_test"
      ]
    },
    {
      "cell_type": "code",
      "execution_count": null,
      "metadata": {
        "id": "zzAFHtpxT1jT"
      },
      "outputs": [],
      "source": [
        "# convert that header's list into dataframe\n",
        "df = pd.DataFrame(columns=header_list_data)\n",
        "df"
      ]
    },
    {
      "cell_type": "code",
      "execution_count": null,
      "metadata": {
        "id": "ey_lxGfxUQKD"
      },
      "outputs": [],
      "source": [
        "# find all the table row of that table\n",
        "row_data = scrap_table.find_all('tr')\n",
        "row_data"
      ]
    },
    {
      "cell_type": "code",
      "execution_count": null,
      "metadata": {
        "id": "N0v1WSgjUSwb"
      },
      "outputs": [],
      "source": [
        "# append the content of that header into dataframe by targeting all table row\n",
        "all_rows_data = []\n",
        "for row in row_data[1:-1]:\n",
        "    row_data_elements = row.find_all(\"td\")\n",
        "    individual_row_data = []\n",
        "    for data in row_data_elements:\n",
        "        individual_row_data.append(data.text.strip())\n",
        "    all_rows_data.append(individual_row_data)\n",
        "    # print(individual_row_data)\n",
        "df = pd.DataFrame(all_rows_data, columns=header_list_data)\n"
      ]
    },
    {
      "cell_type": "code",
      "execution_count": null,
      "metadata": {
        "colab": {
          "base_uri": "https://localhost:8080/",
          "height": 269
        },
        "id": "S_6H3wC4UTsy",
        "outputId": "af1ef2b4-5f7d-4d26-dd85-6d3eacfe244d"
      },
      "outputs": [
        {
          "data": {
            "application/vnd.google.colaboratory.intrinsic+json": {
              "summary": "{\n  \"name\": \"df\",\n  \"rows\": 7,\n  \"fields\": [\n    {\n      \"column\": \"Province\",\n      \"properties\": {\n        \"dtype\": \"string\",\n        \"num_unique_values\": 7,\n        \"samples\": [\n          \"Koshi Province\",\n          \"Madhesh Province\",\n          \"Karnali Province\"\n        ],\n        \"semantic_type\": \"\",\n        \"description\": \"\"\n      }\n    },\n    {\n      \"column\": \"Capital\",\n      \"properties\": {\n        \"dtype\": \"string\",\n        \"num_unique_values\": 7,\n        \"samples\": [\n          \"Biratnagar\",\n          \"Janakpur\",\n          \"Birendranagar\"\n        ],\n        \"semantic_type\": \"\",\n        \"description\": \"\"\n      }\n    },\n    {\n      \"column\": \"Districts\",\n      \"properties\": {\n        \"dtype\": \"string\",\n        \"num_unique_values\": 7,\n        \"samples\": [\n          \"14\",\n          \"8\",\n          \"10\"\n        ],\n        \"semantic_type\": \"\",\n        \"description\": \"\"\n      }\n    },\n    {\n      \"column\": \"Area(km2)\",\n      \"properties\": {\n        \"dtype\": \"string\",\n        \"num_unique_values\": 7,\n        \"samples\": [\n          \"25,905\",\n          \"9,661\",\n          \"30,213\"\n        ],\n        \"semantic_type\": \"\",\n        \"description\": \"\"\n      }\n    },\n    {\n      \"column\": \"PopulationCensus2011\",\n      \"properties\": {\n        \"dtype\": \"string\",\n        \"num_unique_values\": 7,\n        \"samples\": [\n          \"4,534,943\",\n          \"5,404,145\",\n          \"1,570,418\"\n        ],\n        \"semantic_type\": \"\",\n        \"description\": \"\"\n      }\n    },\n    {\n      \"column\": \"PopulationCensus2021\",\n      \"properties\": {\n        \"dtype\": \"string\",\n        \"num_unique_values\": 7,\n        \"samples\": [\n          \"4,972,021\",\n          \"6,126,288\",\n          \"1,694,889\"\n        ],\n        \"semantic_type\": \"\",\n        \"description\": \"\"\n      }\n    },\n    {\n      \"column\": \"Density(people/km2)2021\",\n      \"properties\": {\n        \"dtype\": \"string\",\n        \"num_unique_values\": 7,\n        \"samples\": [\n          \"192\",\n          \"634\",\n          \"56\"\n        ],\n        \"semantic_type\": \"\",\n        \"description\": \"\"\n      }\n    },\n    {\n      \"column\": \"HumanDevelopmentIndex\",\n      \"properties\": {\n        \"dtype\": \"string\",\n        \"num_unique_values\": 7,\n        \"samples\": [\n          \"0.553\",\n          \"0.485\",\n          \"0.469\"\n        ],\n        \"semantic_type\": \"\",\n        \"description\": \"\"\n      }\n    },\n    {\n      \"column\": \"Map\",\n      \"properties\": {\n        \"dtype\": \"object\",\n        \"num_unique_values\": 1,\n        \"samples\": [\n          \"\"\n        ],\n        \"semantic_type\": \"\",\n        \"description\": \"\"\n      }\n    }\n  ]\n}",
              "type": "dataframe",
              "variable_name": "df"
            },
            "text/html": [
              "\n",
              "  <div id=\"df-5cbbc267-b33a-465b-83ed-3a0070881f1f\" class=\"colab-df-container\">\n",
              "    <div>\n",
              "<style scoped>\n",
              "    .dataframe tbody tr th:only-of-type {\n",
              "        vertical-align: middle;\n",
              "    }\n",
              "\n",
              "    .dataframe tbody tr th {\n",
              "        vertical-align: top;\n",
              "    }\n",
              "\n",
              "    .dataframe thead th {\n",
              "        text-align: right;\n",
              "    }\n",
              "</style>\n",
              "<table border=\"1\" class=\"dataframe\">\n",
              "  <thead>\n",
              "    <tr style=\"text-align: right;\">\n",
              "      <th></th>\n",
              "      <th>Province</th>\n",
              "      <th>Capital</th>\n",
              "      <th>Districts</th>\n",
              "      <th>Area(km2)</th>\n",
              "      <th>PopulationCensus2011</th>\n",
              "      <th>PopulationCensus2021</th>\n",
              "      <th>Density(people/km2)2021</th>\n",
              "      <th>HumanDevelopmentIndex</th>\n",
              "      <th>Map</th>\n",
              "    </tr>\n",
              "  </thead>\n",
              "  <tbody>\n",
              "    <tr>\n",
              "      <th>0</th>\n",
              "      <td>Koshi Province</td>\n",
              "      <td>Biratnagar</td>\n",
              "      <td>14</td>\n",
              "      <td>25,905</td>\n",
              "      <td>4,534,943</td>\n",
              "      <td>4,972,021</td>\n",
              "      <td>192</td>\n",
              "      <td>0.553</td>\n",
              "      <td></td>\n",
              "    </tr>\n",
              "    <tr>\n",
              "      <th>1</th>\n",
              "      <td>Madhesh Province</td>\n",
              "      <td>Janakpur</td>\n",
              "      <td>8</td>\n",
              "      <td>9,661</td>\n",
              "      <td>5,404,145</td>\n",
              "      <td>6,126,288</td>\n",
              "      <td>634</td>\n",
              "      <td>0.485</td>\n",
              "      <td></td>\n",
              "    </tr>\n",
              "    <tr>\n",
              "      <th>2</th>\n",
              "      <td>Bagmati Province</td>\n",
              "      <td>Hetauda</td>\n",
              "      <td>13</td>\n",
              "      <td>20,300</td>\n",
              "      <td>5,529,452</td>\n",
              "      <td>6,084,042</td>\n",
              "      <td>300</td>\n",
              "      <td>0.560</td>\n",
              "      <td></td>\n",
              "    </tr>\n",
              "    <tr>\n",
              "      <th>3</th>\n",
              "      <td>Gandaki Province</td>\n",
              "      <td>Pokhara</td>\n",
              "      <td>11</td>\n",
              "      <td>21,856</td>\n",
              "      <td>2,403,757</td>\n",
              "      <td>2,479,745</td>\n",
              "      <td>113</td>\n",
              "      <td>0.567</td>\n",
              "      <td></td>\n",
              "    </tr>\n",
              "    <tr>\n",
              "      <th>4</th>\n",
              "      <td>Lumbini Province</td>\n",
              "      <td>Deukhuri</td>\n",
              "      <td>12</td>\n",
              "      <td>19,707</td>\n",
              "      <td>4,499,272</td>\n",
              "      <td>5,124,225</td>\n",
              "      <td>260</td>\n",
              "      <td>0.519</td>\n",
              "      <td></td>\n",
              "    </tr>\n",
              "    <tr>\n",
              "      <th>5</th>\n",
              "      <td>Karnali Province</td>\n",
              "      <td>Birendranagar</td>\n",
              "      <td>10</td>\n",
              "      <td>30,213</td>\n",
              "      <td>1,570,418</td>\n",
              "      <td>1,694,889</td>\n",
              "      <td>56</td>\n",
              "      <td>0.469</td>\n",
              "      <td></td>\n",
              "    </tr>\n",
              "    <tr>\n",
              "      <th>6</th>\n",
              "      <td>Sudurpashchim Province</td>\n",
              "      <td>Godawari</td>\n",
              "      <td>9</td>\n",
              "      <td>19,539</td>\n",
              "      <td>2,552,517</td>\n",
              "      <td>2,711,270</td>\n",
              "      <td>139</td>\n",
              "      <td>0.478</td>\n",
              "      <td></td>\n",
              "    </tr>\n",
              "  </tbody>\n",
              "</table>\n",
              "</div>\n",
              "    <div class=\"colab-df-buttons\">\n",
              "\n",
              "  <div class=\"colab-df-container\">\n",
              "    <button class=\"colab-df-convert\" onclick=\"convertToInteractive('df-5cbbc267-b33a-465b-83ed-3a0070881f1f')\"\n",
              "            title=\"Convert this dataframe to an interactive table.\"\n",
              "            style=\"display:none;\">\n",
              "\n",
              "  <svg xmlns=\"http://www.w3.org/2000/svg\" height=\"24px\" viewBox=\"0 -960 960 960\">\n",
              "    <path d=\"M120-120v-720h720v720H120Zm60-500h600v-160H180v160Zm220 220h160v-160H400v160Zm0 220h160v-160H400v160ZM180-400h160v-160H180v160Zm440 0h160v-160H620v160ZM180-180h160v-160H180v160Zm440 0h160v-160H620v160Z\"/>\n",
              "  </svg>\n",
              "    </button>\n",
              "\n",
              "  <style>\n",
              "    .colab-df-container {\n",
              "      display:flex;\n",
              "      gap: 12px;\n",
              "    }\n",
              "\n",
              "    .colab-df-convert {\n",
              "      background-color: #E8F0FE;\n",
              "      border: none;\n",
              "      border-radius: 50%;\n",
              "      cursor: pointer;\n",
              "      display: none;\n",
              "      fill: #1967D2;\n",
              "      height: 32px;\n",
              "      padding: 0 0 0 0;\n",
              "      width: 32px;\n",
              "    }\n",
              "\n",
              "    .colab-df-convert:hover {\n",
              "      background-color: #E2EBFA;\n",
              "      box-shadow: 0px 1px 2px rgba(60, 64, 67, 0.3), 0px 1px 3px 1px rgba(60, 64, 67, 0.15);\n",
              "      fill: #174EA6;\n",
              "    }\n",
              "\n",
              "    .colab-df-buttons div {\n",
              "      margin-bottom: 4px;\n",
              "    }\n",
              "\n",
              "    [theme=dark] .colab-df-convert {\n",
              "      background-color: #3B4455;\n",
              "      fill: #D2E3FC;\n",
              "    }\n",
              "\n",
              "    [theme=dark] .colab-df-convert:hover {\n",
              "      background-color: #434B5C;\n",
              "      box-shadow: 0px 1px 3px 1px rgba(0, 0, 0, 0.15);\n",
              "      filter: drop-shadow(0px 1px 2px rgba(0, 0, 0, 0.3));\n",
              "      fill: #FFFFFF;\n",
              "    }\n",
              "  </style>\n",
              "\n",
              "    <script>\n",
              "      const buttonEl =\n",
              "        document.querySelector('#df-5cbbc267-b33a-465b-83ed-3a0070881f1f button.colab-df-convert');\n",
              "      buttonEl.style.display =\n",
              "        google.colab.kernel.accessAllowed ? 'block' : 'none';\n",
              "\n",
              "      async function convertToInteractive(key) {\n",
              "        const element = document.querySelector('#df-5cbbc267-b33a-465b-83ed-3a0070881f1f');\n",
              "        const dataTable =\n",
              "          await google.colab.kernel.invokeFunction('convertToInteractive',\n",
              "                                                    [key], {});\n",
              "        if (!dataTable) return;\n",
              "\n",
              "        const docLinkHtml = 'Like what you see? Visit the ' +\n",
              "          '<a target=\"_blank\" href=https://colab.research.google.com/notebooks/data_table.ipynb>data table notebook</a>'\n",
              "          + ' to learn more about interactive tables.';\n",
              "        element.innerHTML = '';\n",
              "        dataTable['output_type'] = 'display_data';\n",
              "        await google.colab.output.renderOutput(dataTable, element);\n",
              "        const docLink = document.createElement('div');\n",
              "        docLink.innerHTML = docLinkHtml;\n",
              "        element.appendChild(docLink);\n",
              "      }\n",
              "    </script>\n",
              "  </div>\n",
              "\n",
              "\n",
              "<div id=\"df-90484ab3-adce-45d8-8a29-94501caee79f\">\n",
              "  <button class=\"colab-df-quickchart\" onclick=\"quickchart('df-90484ab3-adce-45d8-8a29-94501caee79f')\"\n",
              "            title=\"Suggest charts\"\n",
              "            style=\"display:none;\">\n",
              "\n",
              "<svg xmlns=\"http://www.w3.org/2000/svg\" height=\"24px\"viewBox=\"0 0 24 24\"\n",
              "     width=\"24px\">\n",
              "    <g>\n",
              "        <path d=\"M19 3H5c-1.1 0-2 .9-2 2v14c0 1.1.9 2 2 2h14c1.1 0 2-.9 2-2V5c0-1.1-.9-2-2-2zM9 17H7v-7h2v7zm4 0h-2V7h2v10zm4 0h-2v-4h2v4z\"/>\n",
              "    </g>\n",
              "</svg>\n",
              "  </button>\n",
              "\n",
              "<style>\n",
              "  .colab-df-quickchart {\n",
              "      --bg-color: #E8F0FE;\n",
              "      --fill-color: #1967D2;\n",
              "      --hover-bg-color: #E2EBFA;\n",
              "      --hover-fill-color: #174EA6;\n",
              "      --disabled-fill-color: #AAA;\n",
              "      --disabled-bg-color: #DDD;\n",
              "  }\n",
              "\n",
              "  [theme=dark] .colab-df-quickchart {\n",
              "      --bg-color: #3B4455;\n",
              "      --fill-color: #D2E3FC;\n",
              "      --hover-bg-color: #434B5C;\n",
              "      --hover-fill-color: #FFFFFF;\n",
              "      --disabled-bg-color: #3B4455;\n",
              "      --disabled-fill-color: #666;\n",
              "  }\n",
              "\n",
              "  .colab-df-quickchart {\n",
              "    background-color: var(--bg-color);\n",
              "    border: none;\n",
              "    border-radius: 50%;\n",
              "    cursor: pointer;\n",
              "    display: none;\n",
              "    fill: var(--fill-color);\n",
              "    height: 32px;\n",
              "    padding: 0;\n",
              "    width: 32px;\n",
              "  }\n",
              "\n",
              "  .colab-df-quickchart:hover {\n",
              "    background-color: var(--hover-bg-color);\n",
              "    box-shadow: 0 1px 2px rgba(60, 64, 67, 0.3), 0 1px 3px 1px rgba(60, 64, 67, 0.15);\n",
              "    fill: var(--button-hover-fill-color);\n",
              "  }\n",
              "\n",
              "  .colab-df-quickchart-complete:disabled,\n",
              "  .colab-df-quickchart-complete:disabled:hover {\n",
              "    background-color: var(--disabled-bg-color);\n",
              "    fill: var(--disabled-fill-color);\n",
              "    box-shadow: none;\n",
              "  }\n",
              "\n",
              "  .colab-df-spinner {\n",
              "    border: 2px solid var(--fill-color);\n",
              "    border-color: transparent;\n",
              "    border-bottom-color: var(--fill-color);\n",
              "    animation:\n",
              "      spin 1s steps(1) infinite;\n",
              "  }\n",
              "\n",
              "  @keyframes spin {\n",
              "    0% {\n",
              "      border-color: transparent;\n",
              "      border-bottom-color: var(--fill-color);\n",
              "      border-left-color: var(--fill-color);\n",
              "    }\n",
              "    20% {\n",
              "      border-color: transparent;\n",
              "      border-left-color: var(--fill-color);\n",
              "      border-top-color: var(--fill-color);\n",
              "    }\n",
              "    30% {\n",
              "      border-color: transparent;\n",
              "      border-left-color: var(--fill-color);\n",
              "      border-top-color: var(--fill-color);\n",
              "      border-right-color: var(--fill-color);\n",
              "    }\n",
              "    40% {\n",
              "      border-color: transparent;\n",
              "      border-right-color: var(--fill-color);\n",
              "      border-top-color: var(--fill-color);\n",
              "    }\n",
              "    60% {\n",
              "      border-color: transparent;\n",
              "      border-right-color: var(--fill-color);\n",
              "    }\n",
              "    80% {\n",
              "      border-color: transparent;\n",
              "      border-right-color: var(--fill-color);\n",
              "      border-bottom-color: var(--fill-color);\n",
              "    }\n",
              "    90% {\n",
              "      border-color: transparent;\n",
              "      border-bottom-color: var(--fill-color);\n",
              "    }\n",
              "  }\n",
              "</style>\n",
              "\n",
              "  <script>\n",
              "    async function quickchart(key) {\n",
              "      const quickchartButtonEl =\n",
              "        document.querySelector('#' + key + ' button');\n",
              "      quickchartButtonEl.disabled = true;  // To prevent multiple clicks.\n",
              "      quickchartButtonEl.classList.add('colab-df-spinner');\n",
              "      try {\n",
              "        const charts = await google.colab.kernel.invokeFunction(\n",
              "            'suggestCharts', [key], {});\n",
              "      } catch (error) {\n",
              "        console.error('Error during call to suggestCharts:', error);\n",
              "      }\n",
              "      quickchartButtonEl.classList.remove('colab-df-spinner');\n",
              "      quickchartButtonEl.classList.add('colab-df-quickchart-complete');\n",
              "    }\n",
              "    (() => {\n",
              "      let quickchartButtonEl =\n",
              "        document.querySelector('#df-90484ab3-adce-45d8-8a29-94501caee79f button');\n",
              "      quickchartButtonEl.style.display =\n",
              "        google.colab.kernel.accessAllowed ? 'block' : 'none';\n",
              "    })();\n",
              "  </script>\n",
              "</div>\n",
              "\n",
              "  <div id=\"id_32a84750-1e1c-4ea0-9ff2-28910da4e7bd\">\n",
              "    <style>\n",
              "      .colab-df-generate {\n",
              "        background-color: #E8F0FE;\n",
              "        border: none;\n",
              "        border-radius: 50%;\n",
              "        cursor: pointer;\n",
              "        display: none;\n",
              "        fill: #1967D2;\n",
              "        height: 32px;\n",
              "        padding: 0 0 0 0;\n",
              "        width: 32px;\n",
              "      }\n",
              "\n",
              "      .colab-df-generate:hover {\n",
              "        background-color: #E2EBFA;\n",
              "        box-shadow: 0px 1px 2px rgba(60, 64, 67, 0.3), 0px 1px 3px 1px rgba(60, 64, 67, 0.15);\n",
              "        fill: #174EA6;\n",
              "      }\n",
              "\n",
              "      [theme=dark] .colab-df-generate {\n",
              "        background-color: #3B4455;\n",
              "        fill: #D2E3FC;\n",
              "      }\n",
              "\n",
              "      [theme=dark] .colab-df-generate:hover {\n",
              "        background-color: #434B5C;\n",
              "        box-shadow: 0px 1px 3px 1px rgba(0, 0, 0, 0.15);\n",
              "        filter: drop-shadow(0px 1px 2px rgba(0, 0, 0, 0.3));\n",
              "        fill: #FFFFFF;\n",
              "      }\n",
              "    </style>\n",
              "    <button class=\"colab-df-generate\" onclick=\"generateWithVariable('df')\"\n",
              "            title=\"Generate code using this dataframe.\"\n",
              "            style=\"display:none;\">\n",
              "\n",
              "  <svg xmlns=\"http://www.w3.org/2000/svg\" height=\"24px\"viewBox=\"0 0 24 24\"\n",
              "       width=\"24px\">\n",
              "    <path d=\"M7,19H8.4L18.45,9,17,7.55,7,17.6ZM5,21V16.75L18.45,3.32a2,2,0,0,1,2.83,0l1.4,1.43a1.91,1.91,0,0,1,.58,1.4,1.91,1.91,0,0,1-.58,1.4L9.25,21ZM18.45,9,17,7.55Zm-12,3A5.31,5.31,0,0,0,4.9,8.1,5.31,5.31,0,0,0,1,6.5,5.31,5.31,0,0,0,4.9,4.9,5.31,5.31,0,0,0,6.5,1,5.31,5.31,0,0,0,8.1,4.9,5.31,5.31,0,0,0,12,6.5,5.46,5.46,0,0,0,6.5,12Z\"/>\n",
              "  </svg>\n",
              "    </button>\n",
              "    <script>\n",
              "      (() => {\n",
              "      const buttonEl =\n",
              "        document.querySelector('#id_32a84750-1e1c-4ea0-9ff2-28910da4e7bd button.colab-df-generate');\n",
              "      buttonEl.style.display =\n",
              "        google.colab.kernel.accessAllowed ? 'block' : 'none';\n",
              "\n",
              "      buttonEl.onclick = () => {\n",
              "        google.colab.notebook.generateWithVariable('df');\n",
              "      }\n",
              "      })();\n",
              "    </script>\n",
              "  </div>\n",
              "\n",
              "    </div>\n",
              "  </div>\n"
            ],
            "text/plain": [
              "                 Province        Capital Districts Area(km2)  \\\n",
              "0          Koshi Province     Biratnagar        14    25,905   \n",
              "1        Madhesh Province       Janakpur         8     9,661   \n",
              "2        Bagmati Province        Hetauda        13    20,300   \n",
              "3        Gandaki Province        Pokhara        11    21,856   \n",
              "4        Lumbini Province       Deukhuri        12    19,707   \n",
              "5        Karnali Province  Birendranagar        10    30,213   \n",
              "6  Sudurpashchim Province       Godawari         9    19,539   \n",
              "\n",
              "  PopulationCensus2011 PopulationCensus2021 Density(people/km2)2021  \\\n",
              "0            4,534,943            4,972,021                     192   \n",
              "1            5,404,145            6,126,288                     634   \n",
              "2            5,529,452            6,084,042                     300   \n",
              "3            2,403,757            2,479,745                     113   \n",
              "4            4,499,272            5,124,225                     260   \n",
              "5            1,570,418            1,694,889                      56   \n",
              "6            2,552,517            2,711,270                     139   \n",
              "\n",
              "  HumanDevelopmentIndex Map  \n",
              "0                 0.553      \n",
              "1                 0.485      \n",
              "2                 0.560      \n",
              "3                 0.567      \n",
              "4                 0.519      \n",
              "5                 0.469      \n",
              "6                 0.478      "
            ]
          },
          "execution_count": 28,
          "metadata": {},
          "output_type": "execute_result"
        }
      ],
      "source": [
        "# display the scrapped dataset\n",
        "df"
      ]
    },
    {
      "cell_type": "code",
      "execution_count": null,
      "metadata": {
        "id": "o9NeE7pQUVia"
      },
      "outputs": [],
      "source": [
        "# now, save that file\n",
        "df.to_csv('scrapped_data.csv', index=False)"
      ]
    },
    {
      "cell_type": "code",
      "execution_count": null,
      "metadata": {
        "id": "e4Hp3bR3VIJ6"
      },
      "outputs": [],
      "source": [
        "# Congrats, guys! You have successfully scraped data from that website. Now, try exploring another website/blog or any site you want. (HAPPY CODING)"
      ]
    },
    {
      "cell_type": "markdown",
      "metadata": {
        "id": "ZDSh9KxqWXW-"
      },
      "source": [
        "# **If you have any confusion or face any issues, I am [here.](https://khemrajshrestha.bio.link/) 🙂**"
      ]
    },
    {
      "cell_type": "code",
      "execution_count": null,
      "metadata": {
        "id": "wISs6idvWguU"
      },
      "outputs": [],
      "source": []
    }
  ],
  "metadata": {
    "colab": {
      "provenance": []
    },
    "kernelspec": {
      "display_name": "Python 3",
      "name": "python3"
    },
    "language_info": {
      "codemirror_mode": {
        "name": "ipython",
        "version": 3
      },
      "file_extension": ".py",
      "mimetype": "text/x-python",
      "name": "python",
      "nbconvert_exporter": "python",
      "pygments_lexer": "ipython3",
      "version": "3.12.6"
    }
  },
  "nbformat": 4,
  "nbformat_minor": 0
}
