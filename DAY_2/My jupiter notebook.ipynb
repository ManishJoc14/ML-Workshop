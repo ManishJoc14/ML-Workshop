{
 "cells": [
  {
   "cell_type": "markdown",
   "metadata": {},
   "source": [
    "My first Notebook"
   ]
  },
  {
   "cell_type": "code",
   "execution_count": 1,
   "metadata": {},
   "outputs": [
    {
     "name": "stdout",
     "output_type": "stream",
     "text": [
      "Hello world\n"
     ]
    }
   ],
   "source": [
    "print(\"Hello world\")"
   ]
  },
  {
   "cell_type": "markdown",
   "metadata": {},
   "source": [
    "Product Analysis"
   ]
  },
  {
   "cell_type": "code",
   "execution_count": null,
   "metadata": {},
   "outputs": [
    {
     "name": "stdout",
     "output_type": "stream",
     "text": [
      "   Product_Id Product_Name     Category  Price  Stock\n",
      "0         101            A  Electronics    100     10\n",
      "1         102            B    Furniture    200      5\n",
      "2         103            C     Clothing    150     20\n",
      "3         104            D         Food     50     30\n",
      "4         105            E  Electronics    120     15\n",
      "5         106            F    Furniture    220      8\n",
      "6         107            G     Clothing    160     25\n",
      "7         108            H         Food     60     35\n",
      "8         109            I  Electronics    130     12\n",
      "9         110            J    Furniture    230      6\n"
     ]
    }
   ],
   "source": [
    "import pandas as pd\n",
    "\n",
    "# create a dataframe with sample data\n",
    "data = {\n",
    "    'Product_Id': range(101, 111),\n",
    "    'Product_Name': list('ABCDEFGHIJ'),\n",
    "    'Category': ['Electronics', 'Furniture', 'Clothing', 'Food', 'Electronics', 'Furniture', 'Clothing', 'Food', 'Electronics', 'Furniture'],\n",
    "    'Price': [100, 200, 150, 50, 120, 220, 160, 60, 130, 230],\n",
    "    'Stock': [10, 5, 20, 30, 15, 8, 25, 35, 12, 6]\n",
    "}\n",
    "\n",
    "df = pd.DataFrame(data)\n",
    "print(df)"
   ]
  },
  {
   "cell_type": "code",
   "execution_count": 3,
   "metadata": {},
   "outputs": [
    {
     "data": {
      "text/plain": [
       "<matplotlib.collections.PathCollection at 0x1ad2687b9e0>"
      ]
     },
     "execution_count": 3,
     "metadata": {},
     "output_type": "execute_result"
    },
    {
     "data": {
      "image/png": "[encoded data removed]",
      "text/plain": [
       "<Figure size 640x480 with 1 Axes>"
      ]
     },
     "metadata": {},
     "output_type": "display_data"
    }
   ],
   "source": [
    "import matplotlib.pyplot as plt\n",
    "\n",
    "plt.scatter(df['Price'], df['Stock'])"
   ]
  }
 ],
 "metadata": {
  "kernelspec": {
   "display_name": "venv",
   "language": "python",
   "name": "python3"
  },
  "language_info": {
   "codemirror_mode": {
    "name": "ipython",
    "version": 3
   },
   "file_extension": ".py",
   "mimetype": "text/x-python",
   "name": "python",
   "nbconvert_exporter": "python",
   "pygments_lexer": "ipython3",
   "version": "3.12.6"
  }
 },
 "nbformat": 4,
 "nbformat_minor": 2
}
